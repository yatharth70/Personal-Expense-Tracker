{
  "nbformat": 4,
  "nbformat_minor": 0,
  "metadata": {
    "colab": {
      "provenance": []
    },
    "kernelspec": {
      "name": "python3",
      "display_name": "Python 3"
    },
    "language_info": {
      "name": "python"
    }
  },
  "cells": [
    {
      "cell_type": "code",
      "execution_count": null,
      "metadata": {
        "id": "Q5MM_V-L_1do"
      },
      "outputs": [],
      "source": [
        "import csv\n",
        "import re\n",
        "import smtplib\n",
        "from email.mime.text import MIMEText\n",
        "from email.mime.multipart import MIMEMultipart\n",
        "\n",
        "class ExpenseTracker:\n",
        "  def __init__(self):\n",
        "    self.expenses=[]\n",
        "  def add_expense(self,date,category,amount,description):\n",
        "    self.expenses.append({\n",
        "        'Date'=date\n",
        "        'Category'=category\n",
        "        'Amount'=amount\n",
        "        'Description'=description\n",
        "    })\n",
        "    print(\"Added Successfully\")\n",
        "\n",
        "  def parse_input(self,user_input):\n",
        "    try:\n",
        "      pattern=r\"^(\\d(4)-\\d(2)-\\d(3),\\s*(\\w+),\\s*(\\d+(\\.\\d{1,2})?),\\s*(.+)$)\"\n",
        "      match=re.match(pattern, user_input)\n",
        "      if not match:\n",
        "        raise\n",
        "\n",
        "  def save_to_csv(self,filename=('expense.csv')):\n",
        "    try:\n",
        "      with open(filename, mode='w') as file:\n",
        "        write=csv.Dictwriter(file)\n",
        "\n",
        "\n",
        "\n",
        "if __name__=='__main__':\n",
        "  tracker= ExpenseTracker()\n",
        "  tracker.load_from_csv()\n",
        "  while True:\n",
        "    print(\"\\n Options: \")\n",
        "    print(\"1. Add Expenses \")\n",
        "    print(\"2. view Summary\")\n",
        "    print(\"3. Save Expenses\")\n",
        "    print(\"4. Send Email\")\n",
        "    print(\"5. Exit\")\n",
        "\n",
        "    choice=input(\"Choose an input: \")\n",
        "    if choice==1:\n",
        "      User_input=input(\"Enter expenses as 'YYYY-MM-DD, Category, Amount, Discription: \")\n",
        "      tracker.parse_input(user_input)\n",
        "    elif choice==2:\n",
        "      tracker.generate_summary\n"
      ]
    }
  ]
}